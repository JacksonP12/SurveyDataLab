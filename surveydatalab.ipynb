{
 "cells": [
  {
   "cell_type": "code",
   "execution_count": 9,
   "id": "a7e41053",
   "metadata": {},
   "outputs": [],
   "source": [
    "#dataset: https://raw.githubusercontent.com/fivethirtyeight/data/master/redistricting-2022-state-legislatures/fivethirtyeight_state_legislative_district_analysis.csv\n",
    "#import dependencies\n",
    "import pandas as pd\n",
    "import matplotlib as ptl\n",
    "import numpy as np\n",
    "from itertools import cycle, islice"
   ]
  },
  {
   "cell_type": "code",
   "execution_count": 10,
   "id": "20403185",
   "metadata": {},
   "outputs": [
    {
     "name": "stdout",
     "output_type": "stream",
     "text": [
      "   year state chamber district     metric   value    pct\n",
      "0  2020    AZ     NaN        1  white_vap  167765  82.25\n",
      "1  2020    AZ     NaN        2  white_vap   63800  38.27\n",
      "2  2020    AZ     NaN        3  white_vap   60154  36.35\n",
      "3  2020    AZ     NaN        4  white_vap   48188  29.45\n",
      "4  2020    AZ     NaN        5  white_vap  146707  77.32\n"
     ]
    }
   ],
   "source": [
    "#read congress terms dataset\n",
    "file = 'state-legislatures.csv'\n",
    "df = pd.read_csv(file)\n",
    "print(df.head())"
   ]
  },
  {
   "cell_type": "code",
   "execution_count": 11,
   "id": "4c9c4274",
   "metadata": {},
   "outputs": [],
   "source": [
    "#create 2020 and 2022 datasets\n",
    "df2020 = df[df['year'] == '2020']\n",
    "df2022 = df[df['year'] == '2022']"
   ]
  },
  {
   "cell_type": "code",
   "execution_count": 12,
   "id": "cab24413",
   "metadata": {},
   "outputs": [
    {
     "name": "stdout",
     "output_type": "stream",
     "text": [
      "       year state chamber district metric  value  pct\n",
      "21505  2020    AZ     NaN        1    pvi  -42.8  NaN\n",
      "21506  2020    AZ     NaN        2    pvi   14.5  NaN\n",
      "21507  2020    AZ     NaN        3    pvi   39.6  NaN\n",
      "21508  2020    AZ     NaN        4    pvi    7.2  NaN\n",
      "21509  2020    AZ     NaN        5    pvi  -57.6  NaN\n",
      "\n",
      "       year state chamber district metric  value  pct\n",
      "21535  2022    AZ     NaN        1    pvi  -35.7  NaN\n",
      "21536  2022    AZ     NaN       10    pvi  -28.7  NaN\n",
      "21537  2022    AZ     NaN       11    pvi   45.6  NaN\n",
      "21538  2022    AZ     NaN       12    pvi    9.4  NaN\n",
      "21539  2022    AZ     NaN       13    pvi   -6.2  NaN\n"
     ]
    }
   ],
   "source": [
    "#create 2020 & 2022 pvi \n",
    "dfpvi2020 = df2020[df2020['metric'] == 'pvi']\n",
    "dfpvi2022 = df2022[df2022['metric'] == 'pvi']\n",
    "print(dfpvi2020.head())\n",
    "print(\"\")\n",
    "print(dfpvi2022.head())"
   ]
  },
  {
   "cell_type": "code",
   "execution_count": 13,
   "id": "d81cc0cc",
   "metadata": {
    "scrolled": true
   },
   "outputs": [
    {
     "name": "stdout",
     "output_type": "stream",
     "text": [
      "       value\n",
      "state       \n",
      "AZ     -7.70\n",
      "CO      8.35\n",
      "CT      9.80\n",
      "FL     -9.80\n",
      "GA    -15.45\n",
      "ME     -2.00\n",
      "MI    -10.65\n",
      "MN     -0.80\n",
      "NC    -10.75\n",
      "NM      8.40\n",
      "NV      0.90\n",
      "OR      9.00\n",
      "PA     -8.10\n",
      "TX     -6.80\n",
      "VA      5.00\n",
      "       value\n",
      "state       \n",
      "AZ     -9.15\n",
      "CO      5.10\n",
      "CT     11.80\n",
      "FL    -10.70\n",
      "GA    -20.95\n",
      "ME     -1.35\n",
      "MI     -4.20\n",
      "MN     -2.60\n",
      "NC     -7.25\n",
      "NM     10.50\n",
      "NV      4.60\n",
      "OR      9.50\n",
      "PA     -4.40\n",
      "TX    -16.45\n",
      "VA      5.65\n"
     ]
    }
   ],
   "source": [
    "#get median pvi by state 2020\n",
    "by_state_median_2020 = dfpvi2020.groupby('state')[['value']].median()\n",
    "print(by_state_median_2020)\n",
    "#get median pvi by state 2022\n",
    "by_state_median_2022 = dfpvi2022.groupby('state')[['value']].median()\n",
    "print(by_state_median_2022)"
   ]
  },
  {
   "cell_type": "code",
   "execution_count": 14,
   "id": "45e48c82",
   "metadata": {
    "scrolled": false
   },
   "outputs": [
    {
     "name": "stdout",
     "output_type": "stream",
     "text": [
      "[-7.699999999999999, 8.350000000000001, 9.8, -9.8, -15.45, -2.0, -10.65, -0.8, -10.75, 8.4, 0.9, 9.0, -8.1, -6.800000000000001, 5.0]\n",
      "\n",
      "[-9.15, 5.1, 11.8, -10.7, -20.950000000000003, -1.35, -4.2, -2.6, -7.25, 10.5, 4.6, 9.5, -4.4, -16.45, 5.65]\n",
      "[-1.450000000000001, -3.2500000000000018, 2.0, -0.8999999999999986, -5.5000000000000036, 0.6499999999999999, 6.45, -1.8, 3.5, 2.0999999999999996, 3.6999999999999997, 0.5, 3.6999999999999993, -9.649999999999999, 0.6500000000000004]\n",
      "    value\n",
      "AZ  -1.45\n",
      "CO  -3.25\n",
      "CT   2.00\n",
      "FL  -0.90\n",
      "GA  -5.50\n",
      "ME   0.65\n",
      "MI   6.45\n",
      "MN  -1.80\n",
      "NC   3.50\n",
      "NM   2.10\n",
      "NV   3.70\n",
      "OR   0.50\n",
      "PA   3.70\n",
      "TX  -9.65\n",
      "VA   0.65\n"
     ]
    }
   ],
   "source": [
    "#calculate change in pvi from 2020 to 2022\n",
    "#NEW: CHANGING ROW INDEXES MANUALLY AND CALCULATING CHANGES IN LIST\n",
    "pvi2020 = by_state_median_2020['value'].tolist()\n",
    "pvi2022 = by_state_median_2022['value'].tolist()\n",
    "#create new dataframe\n",
    "pvichangedf = pd.DataFrame()\n",
    "print(pvi2020)\n",
    "print(\"\")\n",
    "print(pvi2022)\n",
    "pvichange = []\n",
    "#do calculations for every list index (same states in same spots, thankfully)\n",
    "for index, item in enumerate(pvi2020):\n",
    "    pvic = pvi2022[index] - pvi2020[index]\n",
    "    #add change to list\n",
    "    pvichange.append(pvic)\n",
    "print(pvichange)\n",
    "#note that by_state_median_2020 and by_state_median_2022 are interchangable here\n",
    "pvichangedf.index = by_state_median_2020.index.values.tolist()\n",
    "pvichangedf['value'] = pvichange\n",
    "print(pvichangedf.head(15))"
   ]
  },
  {
   "cell_type": "code",
   "execution_count": 15,
   "id": "0ab889e4",
   "metadata": {},
   "outputs": [
    {
     "data": {
      "text/plain": [
       "<AxesSubplot:title={'center':'Median 538 PVI by State (2020 -> 2022)'}, xlabel='State', ylabel='PVI Change (+=D, -=R)'>"
      ]
     },
     "execution_count": 15,
     "metadata": {},
     "output_type": "execute_result"
    },
    {
     "data": {
      "image/png": "[encoded data removed]",
      "text/plain": [
       "<Figure size 720x360 with 1 Axes>"
      ]
     },
     "metadata": {
      "needs_background": "light"
     },
     "output_type": "display_data"
    },
    {
     "data": {
      "image/png": "[encoded data removed]",
      "text/plain": [
       "<Figure size 720x360 with 1 Axes>"
      ]
     },
     "metadata": {
      "needs_background": "light"
     },
     "output_type": "display_data"
    },
    {
     "data": {
      "image/png": "[encoded data removed]",
      "text/plain": [
       "<Figure size 720x360 with 1 Axes>"
      ]
     },
     "metadata": {
      "needs_background": "light"
     },
     "output_type": "display_data"
    }
   ],
   "source": [
    "by_state_median_2020.plot(kind = 'bar', title = 'Median 538 PVI by State (2020)', ylabel = 'PVI (+=D, -=R)', xlabel = 'State', figsize = (10, 5), color = \"blue\")\n",
    "by_state_median_2022.plot(kind = 'bar', title = 'Median 538 PVI by State (2022)', ylabel = 'PVI (+=D, -=R)', xlabel = 'State', figsize = (10, 5), color = \"red\")\n",
    "pvichangedf.plot(kind = 'bar', title = 'Median 538 PVI by State (2020 -> 2022)', ylabel = 'PVI Change (+=D, -=R)', xlabel = 'State', figsize = (10, 5), color = \"purple\")"
   ]
  },
  {
   "cell_type": "code",
   "execution_count": 16,
   "id": "03df1cfb",
   "metadata": {
    "scrolled": true
   },
   "outputs": [
    {
     "name": "stdout",
     "output_type": "stream",
     "text": [
      "      year state chamber district     metric   value    pct\n",
      "30    2022    AZ     NaN        1  white_vap  162562  80.99\n",
      "31    2022    AZ     NaN       10  white_vap  143947  75.85\n",
      "32    2022    AZ     NaN       11  white_vap   37668  22.04\n",
      "33    2022    AZ     NaN       12  white_vap  118235  62.29\n",
      "34    2022    AZ     NaN       13  white_vap  110484  60.69\n",
      "...    ...   ...     ...      ...        ...     ...    ...\n",
      "4296  2022    VA   upper        5  white_vap  156516   85.6\n",
      "4297  2022    VA   upper        6  white_vap  162308  93.13\n",
      "4298  2022    VA   upper        7  white_vap  144692  82.33\n",
      "4299  2022    VA   upper        8  white_vap  131557  76.42\n",
      "4300  2022    VA   upper        9  white_vap  105803  60.87\n",
      "\n",
      "[2226 rows x 7 columns]\n"
     ]
    }
   ],
   "source": [
    "#limit dataset to white voting age population (most recent)\n",
    "dfwvap = df2022[df2022['metric'] == 'white_vap']\n",
    "print(dfwvap.head(25530))"
   ]
  },
  {
   "cell_type": "code",
   "execution_count": 17,
   "id": "14e8ce99",
   "metadata": {},
   "outputs": [
    {
     "name": "stdout",
     "output_type": "stream",
     "text": [
      "[62.745000000000005, 73.11500000000001, 74.73, 60.86, 59.235, 93.225, 80.745, 83.12, 66.5, 40.875, 51.19, 77.565, 83.26, 49.24, 60.82]\n",
      "[37.254999999999995, 26.88499999999999, 25.269999999999996, 39.14, 40.765, 6.775000000000006, 19.254999999999995, 16.879999999999995, 33.5, 59.125, 48.81, 22.435000000000002, 16.739999999999995, 50.76, 39.18]\n"
     ]
    },
    {
     "data": {
      "text/plain": [
       "<AxesSubplot:title={'center':'Median Non-White Voter % by State'}, xlabel='State', ylabel='Non-White Voter %'>"
      ]
     },
     "execution_count": 17,
     "metadata": {},
     "output_type": "execute_result"
    },
    {
     "data": {
      "image/png": "[encoded data removed]",
      "text/plain": [
       "<Figure size 720x360 with 1 Axes>"
      ]
     },
     "metadata": {
      "needs_background": "light"
     },
     "output_type": "display_data"
    }
   ],
   "source": [
    "#get mean white voting age population % by state\n",
    "by_state_wvap = dfwvap.groupby('state')[['pct']].median()\n",
    "#convert to non-white voting age population %\n",
    "pctcol = by_state_wvap['pct'].tolist()\n",
    "print(pctcol)\n",
    "newpctcol = []\n",
    "for i in pctcol:\n",
    "    newval = 100-i\n",
    "    newpctcol.append(newval)\n",
    "print(newpctcol)\n",
    "#replace column in dataset\n",
    "n = by_state_wvap.columns[0]\n",
    "by_state_wvap.drop(n, axis = 1, inplace = True)\n",
    "by_state_wvap[n] = newpctcol\n",
    "by_state_wvap.plot(kind = 'bar', title = 'Median Non-White Voter % by State', ylabel = 'Non-White Voter %', xlabel = 'State', figsize = (10, 5))"
   ]
  }
 ],
 "metadata": {
  "kernelspec": {
   "display_name": "Python 3 (ipykernel)",
   "language": "python",
   "name": "python3"
  },
  "language_info": {
   "codemirror_mode": {
    "name": "ipython",
    "version": 3
   },
   "file_extension": ".py",
   "mimetype": "text/x-python",
   "name": "python",
   "nbconvert_exporter": "python",
   "pygments_lexer": "ipython3",
   "version": "3.9.12"
  }
 },
 "nbformat": 4,
 "nbformat_minor": 5
}
